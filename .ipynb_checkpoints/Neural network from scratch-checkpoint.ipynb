{
 "cells": [
  {
   "cell_type": "code",
   "execution_count": 1,
   "id": "afff1b6b",
   "metadata": {},
   "outputs": [],
   "source": [
    "import pandas as pd\n",
    "import numpy as np\n",
    "import scipy as sc\n",
    "from sklearn.preprocessing import StandardScaler\n",
    "import matplotlib.pyplot as plt\n",
    "import time\n",
    "from IPython.display import clear_output"
   ]
  },
  {
   "cell_type": "code",
   "execution_count": 2,
   "id": "83d12328",
   "metadata": {},
   "outputs": [],
   "source": [
    "#Data preparation\n",
    "#We use weight and height data to predict gender\n",
    "train_X = np.array([[161,57],\n",
    "                    [181,88],\n",
    "                    [190,95],\n",
    "                    [156,54],\n",
    "                    [162,58],\n",
    "                    [170,60],\n",
    "                    [179,75],\n",
    "                    [178,74]])\n",
    "\n",
    "train_X = StandardScaler().fit_transform(train_X)\n",
    "\n",
    "train_Y = np.array([[0],\n",
    "                    [1],\n",
    "                    [1],\n",
    "                    [0],\n",
    "                    [0],\n",
    "                    [0],\n",
    "                    [1],\n",
    "                    [1]])\n",
    "                   \n",
    "test_X = np.array([[165,57],\n",
    "                   [194,92],\n",
    "                   [185,78],\n",
    "                   [157,56],\n",
    "                   [162,60]])\n",
    "\n",
    "test_X = StandardScaler().fit_transform(test_X)"
   ]
  },
  {
   "cell_type": "code",
   "execution_count": 3,
   "id": "fdb204e7",
   "metadata": {},
   "outputs": [],
   "source": [
    "class functions:\n",
    "    def sigmoid(type):           \n",
    "        sigmoid = (lambda x: 1 / (1 + np.e ** (-x)),\n",
    "                   lambda x: sigmoid[0](x) * (1 - sigmoid[0](x)))      \n",
    "        return sigmoid[type]\n",
    "    \n",
    "class functions:\n",
    "    def sigmoid(type):           \n",
    "        sigmoid = (lambda x: 1 / (1 + np.e ** (-x)),\n",
    "                   lambda x: sigmoid[0](x) * (1 - sigmoid[0](x)))      \n",
    "        return sigmoid[type]\n",
    "        \n",
    "    def lossFunctionSelect(type):\n",
    "        lossFunc = (lambda yp, yr: (yp - yr) ** 2,\n",
    "                    lambda yp, yr: 2 * (yp -yr))\n",
    "        return lossFunc[type]\n",
    "        \n",
    "    def lossFunctionSelect(type):\n",
    "        lossFunc = (lambda yp, yr: (yp - yr) ** 2,\n",
    "                    lambda yp, yr: 2 * (yp -yr))\n",
    "        return lossFunc[type]"
   ]
  },
  {
   "cell_type": "code",
   "execution_count": 4,
   "id": "f51daa4d",
   "metadata": {},
   "outputs": [],
   "source": [
    "weights = []\n",
    "bias = []\n",
    "loss = []\n",
    "\n",
    "class neuralNetwork:\n",
    "    def __init__(self, x, y):\n",
    "        self.x = x;\n",
    "        self.w1 = np.random.rand(self.x.shape[1],4)\n",
    "        self.w2 = np.random.rand(4,1)\n",
    "        self.b1 = np.random.rand(1,4)\n",
    "        self.b2 = np.random.rand(1,1)\n",
    "        self.y = y\n",
    "        self.output = np.zeros(self.y.shape)\n",
    "            \n",
    "    def feedForward(self): \n",
    "        self.layer1 = functions.sigmoid(0)(np.dot(self.x, self.w1))\n",
    "        self.output = functions.sigmoid(0)(np.dot(self.layer1, self.w2))\n",
    "        self.loss = functions.lossFunctionSelect(0)(self.y, self.output)\n",
    "\n",
    "        loss.append(np.mean(functions.lossFunctionSelect(0)(self.y, self.output)))       \n",
    "        plt.plot(range(len(loss)), loss)\n",
    "        plt.show()\n",
    "        clear_output(wait = True)\n",
    "        \n",
    "    def backPropagation(self, lr):\n",
    "        d_w2 = np.dot(self.layer1.T, functions.lossFunctionSelect(1)(self.y, self.output) * functions.sigmoid(1)(self.output))\n",
    "        d_w1 = np.dot(self.x.T, (np.dot(functions.lossFunctionSelect(1)(self.y, self.output) * functions.sigmoid(1)(self.output), self.w2.T) * functions.sigmoid(1)(self.layer1)))\n",
    "        \n",
    "        #d_b2 = functions.lossFunctionSelect(1)(self.y, self.output) * functions.actFuncSelect(actFunc, 1)(self.output)  \n",
    "        #d_b1 = np.dot(functions.lossFunctionSelect(1)(self.y, self.output) * functions.actFuncSelect(actFunc, 1)(self.output), self.b2)\n",
    "        \n",
    "        self.w1 += d_w1 * lr\n",
    "        self.w2 += d_w2 * lr\n",
    "               \n",
    "        #self.b1 += d_b1 * lr\n",
    "        #self.b2 += d_b2 * lr\n",
    "        \n",
    "        weights.append(d_w1)\n",
    "        weights.append(d_w2)\n",
    "        \n",
    "    def train(self, lr, epochs):\n",
    "        for epoch in range(epochs):\n",
    "            nn.feedForward()\n",
    "            nn.backPropagation(lr)           \n",
    "        #nn.feedForward(True)   \n",
    "        \n",
    "    def predict(self, test_X):      \n",
    "        self.layer1 = functions.sigmoid(0)(np.dot(test_X, self.w1))\n",
    "        self.output = functions.sigmoid(0)(np.dot(self.layer1, self.w2))\n",
    "        self.loss = functions.lossFunctionSelect(0)(self.y.T, self.output)\n",
    "        \n",
    "        print(self.output)"
   ]
  },
  {
   "cell_type": "code",
   "execution_count": 5,
   "id": "a402e6cd",
   "metadata": {},
   "outputs": [
    {
     "data": {
      "image/png": "[encoded data removed]",
      "text/plain": [
       "<Figure size 432x288 with 1 Axes>"
      ]
     },
     "metadata": {
      "needs_background": "light"
     },
     "output_type": "display_data"
    }
   ],
   "source": [
    "#We train our neural network with some training data\n",
    "nn = neuralNetwork(train_X, train_Y)\n",
    "nn.train(0.05, 500)"
   ]
  },
  {
   "cell_type": "code",
   "execution_count": 6,
   "id": "9dfa5ed4",
   "metadata": {},
   "outputs": [
    {
     "name": "stdout",
     "output_type": "stream",
     "text": [
      "[[0.03282072]\n",
      " [0.99257495]\n",
      " [0.99052781]\n",
      " [0.02615934]\n",
      " [0.03327314]]\n"
     ]
    }
   ],
   "source": [
    "#We make some predictions with our testing data\n",
    "nn.predict(test_X)"
   ]
  },
  {
   "cell_type": "code",
   "execution_count": null,
   "id": "5f0df999",
   "metadata": {},
   "outputs": [],
   "source": []
  }
 ],
 "metadata": {
  "kernelspec": {
   "display_name": "Python 3",
   "language": "python",
   "name": "python3"
  },
  "language_info": {
   "codemirror_mode": {
    "name": "ipython",
    "version": 3
   },
   "file_extension": ".py",
   "mimetype": "text/x-python",
   "name": "python",
   "nbconvert_exporter": "python",
   "pygments_lexer": "ipython3",
   "version": "3.8.8"
  }
 },
 "nbformat": 4,
 "nbformat_minor": 5
}
