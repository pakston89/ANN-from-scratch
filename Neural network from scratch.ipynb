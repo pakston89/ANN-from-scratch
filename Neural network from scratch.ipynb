{
 "cells": [
  {
   "cell_type": "code",
   "execution_count": 1,
   "id": "afff1b6b",
   "metadata": {},
   "outputs": [],
   "source": [
    "import numpy as np\n",
    "import scipy as sc\n",
    "import matplotlib.pyplot as plt\n",
    "import time\n",
    "from IPython.display import clear_output"
   ]
  },
  {
   "cell_type": "code",
   "execution_count": 2,
   "id": "fdb204e7",
   "metadata": {},
   "outputs": [],
   "source": [
    "class functions:\n",
    "    def sigmoid(type):           \n",
    "        sigmoid = (lambda x: 1 / (1 + np.e ** (-x)),\n",
    "                   lambda x: sigmoid[0](x) * (1 - sigmoid[0](x)))      \n",
    "        return sigmoid[type]\n",
    "    \n",
    "class functions:\n",
    "    def sigmoid(type):           \n",
    "        sigmoid = (lambda x: 1 / (1 + np.e ** (-x)),\n",
    "                   lambda x: sigmoid[0](x) * (1 - sigmoid[0](x)))      \n",
    "        return sigmoid[type]\n",
    "    \n",
    "    def relu(type, x):\n",
    "        \n",
    "        if type == 0:  \n",
    "            print(\"antes normal \", x)\n",
    "            x = np.maximum(0,x)\n",
    "            print(\"despues normal \", x)\n",
    "            time.sleep(10)\n",
    "            return x\n",
    "        else:\n",
    "            print(\"antes derivada \", x)\n",
    "            x[x<=0] = 0\n",
    "            x[x>0] = 1\n",
    "            print(\"despues derivada \", x)\n",
    "            time.sleep(10)\n",
    "            return x\n",
    "        \n",
    "    def lossFunctionSelect(type):\n",
    "        lossFunc = (lambda yp, yr: (yp - yr) ** 2,\n",
    "                    lambda yp, yr: 2 * (yp -yr))\n",
    "        return lossFunc[type]\n",
    "        \n",
    "    def lossFunctionSelect(type):\n",
    "        lossFunc = (lambda yp, yr: (yp - yr) ** 2,\n",
    "                    lambda yp, yr: 2 * (yp -yr))\n",
    "        return lossFunc[type]"
   ]
  },
  {
   "cell_type": "code",
   "execution_count": 5,
   "id": "f51daa4d",
   "metadata": {},
   "outputs": [],
   "source": [
    "weights = []\n",
    "bias = []\n",
    "loss = []\n",
    "\n",
    "class neuralNetwork:\n",
    "    def __init__(self, x, y):\n",
    "        self.x = x;\n",
    "        self.w1 = np.random.rand(self.x.shape[1],4)\n",
    "        self.w2 = np.random.rand(4,1)\n",
    "        self.b1 = np.random.rand(1,4)\n",
    "        self.b2 = np.random.rand(1,1)\n",
    "        self.y = y\n",
    "        self.output = np.zeros(self.y.shape)\n",
    "            \n",
    "    def feedForward(self): \n",
    "        self.layer1 = functions.sigmoid(0)(np.dot(self.x, self.w1))\n",
    "        self.output = functions.sigmoid(0)(np.dot(self.layer1, self.w2))\n",
    "        self.loss = functions.lossFunctionSelect(0)(self.y, self.output)\n",
    "\n",
    "        loss.append(np.mean(functions.lossFunctionSelect(0)(self.y, self.output)))\n",
    "        plt.plot(range(len(loss)), loss)\n",
    "        plt.show()\n",
    "        clear_output(wait = True)\n",
    "        \n",
    "    def backPropagation(self, lr):\n",
    "        d_w2 = np.dot(self.layer1.T, functions.lossFunctionSelect(1)(self.y, self.output) * functions.sigmoid(1)(self.output))\n",
    "        d_w1 = np.dot(self.x.T, (np.dot(functions.lossFunctionSelect(1)(self.y, self.output) * functions.sigmoid(1)(self.output), self.w2.T) * functions.sigmoid(1)(self.layer1)))\n",
    "        \n",
    "        #d_b2 = functions.lossFunctionSelect(1)(self.y, self.output) * functions.actFuncSelect(actFunc, 1)(self.output)  \n",
    "        #d_b1 = np.dot(functions.lossFunctionSelect(1)(self.y, self.output) * functions.actFuncSelect(actFunc, 1)(self.output), self.b2)\n",
    "        \n",
    "        self.w1 += d_w1 * lr\n",
    "        self.w2 += d_w2 * lr\n",
    "               \n",
    "        #self.b1 += d_b1 * lr\n",
    "        #self.b2 += d_b2 * lr\n",
    "        \n",
    "        weights.append(d_w1)\n",
    "        weights.append(d_w2)\n",
    "        \n",
    "    def train(self, lr, epochs):\n",
    "        for epoch in range(epochs):\n",
    "            nn.feedForward()\n",
    "            nn.backPropagation(lr)           \n",
    "        #nn.feedForward(True)   \n",
    "        \n",
    "    def predict(self, test_X):      \n",
    "        self.layer1 = functions.sigmoid(0)(np.dot(test_X, self.w1))\n",
    "        self.output = functions.sigmoid(0)(np.dot(self.layer1, self.w2))\n",
    "        self.loss = functions.lossFunctionSelect(0)(self.y, self.output)\n",
    "        print(self.output)"
   ]
  },
  {
   "cell_type": "code",
   "execution_count": 6,
   "id": "a402e6cd",
   "metadata": {},
   "outputs": [
    {
     "data": {
      "image/png": "[encoded data removed]",
      "text/plain": [
       "<Figure size 432x288 with 1 Axes>"
      ]
     },
     "metadata": {
      "needs_background": "light"
     },
     "output_type": "display_data"
    }
   ],
   "source": [
    "#We train our neural network sith some training data\n",
    "train_X = np.array([[0,0,0],\n",
    "                    [1,0,1],\n",
    "                    [0,1,1],\n",
    "                    [1,1,1]])\n",
    "\n",
    "train_Y = np.array([[0],\n",
    "                    [1],\n",
    "                    [1],\n",
    "                    [1],])\n",
    "\n",
    "nn = neuralNetwork(train_X, train_Y)\n",
    "nn.train(0.1, 2000)"
   ]
  },
  {
   "cell_type": "code",
   "execution_count": 7,
   "id": "9dfa5ed4",
   "metadata": {},
   "outputs": [
    {
     "name": "stdout",
     "output_type": "stream",
     "text": [
      "[[0.96864172]\n",
      " [0.13148587]\n",
      " [0.96874474]\n",
      " [0.13148587]]\n"
     ]
    }
   ],
   "source": [
    "#We make some predictions with some testing data\n",
    "test_X = np.array([[1,1,1],\n",
    "                   [0,0,0],\n",
    "                   [0,1,1],\n",
    "                   [0,0,0]])\n",
    "nn.predict(test_X)"
   ]
  },
  {
   "cell_type": "code",
   "execution_count": null,
   "id": "6f04adc9",
   "metadata": {},
   "outputs": [],
   "source": []
  }
 ],
 "metadata": {
  "kernelspec": {
   "display_name": "Python 3",
   "language": "python",
   "name": "python3"
  },
  "language_info": {
   "codemirror_mode": {
    "name": "ipython",
    "version": 3
   },
   "file_extension": ".py",
   "mimetype": "text/x-python",
   "name": "python",
   "nbconvert_exporter": "python",
   "pygments_lexer": "ipython3",
   "version": "3.8.8"
  }
 },
 "nbformat": 4,
 "nbformat_minor": 5
}
